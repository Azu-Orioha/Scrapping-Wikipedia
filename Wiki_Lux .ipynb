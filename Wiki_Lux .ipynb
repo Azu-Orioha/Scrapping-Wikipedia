{
 "cells": [
  {
   "cell_type": "code",
   "execution_count": 1,
   "id": "27fef338",
   "metadata": {},
   "outputs": [],
   "source": [
    "import requests\n",
    "\n",
    "url = \"https://en.wikipedia.org/wiki/Luxembourg\"\n",
    "content = requests.get(url).content"
   ]
  },
  {
   "cell_type": "code",
   "execution_count": 2,
   "id": "71bd028a",
   "metadata": {},
   "outputs": [],
   "source": [
    "from bs4 import BeautifulSoup\n",
    "soup =  BeautifulSoup (content, 'lxml')"
   ]
  },
  {
   "cell_type": "code",
   "execution_count": 3,
   "id": "a19ab13e",
   "metadata": {},
   "outputs": [
    {
     "name": "stdout",
     "output_type": "stream",
     "text": [
      "Administrative Languages: [{'name': 'Luxembourgish', 'href': '/wiki/Luxembourgish_language', 'titlename': 'Luxembourgish language'}, {'name': 'Luxembourgish', 'href': '/wiki/Luxembourgish', 'titlename': 'Luxembourgish'}, {'name': 'German', 'href': '/wiki/German_language', 'titlename': 'German language'}, {'name': 'French', 'href': '/wiki/French_language', 'titlename': 'French language'}]\n"
     ]
    }
   ],
   "source": [
    "\n",
    "header = soup.find(lambda tag: tag.name in ['b', 'th'] and \"Administrative language\" in tag.get_text())\n",
    "\n",
    "if header:\n",
    "    container = header.find_parent('tr') or header.find_next_sibling('ul')\n",
    "    \n",
    "    languages = []\n",
    "    for a in container.find_all('a', href=True, title=True):\n",
    "        languages.append({\n",
    "            \"name\":a.get_text(strip=True),\n",
    "            \"href\":a['href'],\n",
    "            \"titlename\":a['title']   \n",
    "        })\n",
    "                          \n",
    "    print (\"Administrative Languages:\", languages)\n",
    "else:\n",
    "        print (\"Header not found. Try adjusting the search term. \")\n"
   ]
  },
  {
   "cell_type": "code",
   "execution_count": null,
   "id": "083e34c5",
   "metadata": {},
   "outputs": [],
   "source": []
  }
 ],
 "metadata": {
  "kernelspec": {
   "display_name": "Python 3 (ipykernel)",
   "language": "python",
   "name": "python3"
  },
  "language_info": {
   "codemirror_mode": {
    "name": "ipython",
    "version": 3
   },
   "file_extension": ".py",
   "mimetype": "text/x-python",
   "name": "python",
   "nbconvert_exporter": "python",
   "pygments_lexer": "ipython3",
   "version": "3.9.12"
  }
 },
 "nbformat": 4,
 "nbformat_minor": 5
}
